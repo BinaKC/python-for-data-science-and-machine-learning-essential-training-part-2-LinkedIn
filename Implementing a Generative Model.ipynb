{
 "cells": [
  {
   "cell_type": "markdown",
   "id": "ce08ee17",
   "metadata": {},
   "source": [
    "# Implementing a Generative Model\n"
   ]
  },
  {
   "cell_type": "code",
   "execution_count": 17,
   "id": "1b8ed2b0",
   "metadata": {},
   "outputs": [],
   "source": [
    "#!pip install transformers"
   ]
  },
  {
   "cell_type": "code",
   "execution_count": 18,
   "id": "d7a814ee",
   "metadata": {},
   "outputs": [],
   "source": [
    "#!pip install ipywidgets --upgrade"
   ]
  },
  {
   "cell_type": "markdown",
   "id": "143376e7",
   "metadata": {},
   "source": [
    "import warnings\n",
    "from transformers import GPT2LMHeadModel, GPT2Tokenizer\n",
    "\n",
    "warnings.filterwarnings(\"ignore\", category=FutureWarning)\n",
    "\n",
    "tokenizer = GPT2Tokenizer.from_pretrained('gpt2')\n",
    "model = GPT2LMHeadModel.from_pretrained('gpt2')\n",
    "\n",
    "tokenizer.pad_token_id = tokenizer.eos_token_id\n",
    "\n",
    "input_text = \"In the AI field\"\n",
    "input_ids = tokenizer.encode(input_text, return_tensors='pt') \n",
    "\n",
    "attention_mask = input_ids.ne(tokenizer.pad_token_id).long()\n",
    "\n",
    "output = model.generate(\n",
    "  input_ids,\n",
    "  attention_mask=attention_mask,\n",
    "  max_length=100,\n",
    "  no_repeat_ngram_size=2,\n",
    "  num_return_sequences=1,\n",
    "  pad_token_id = tokenizer.eos_token_id\n",
    ")\n",
    "\n",
    "generated_text = tokenizer.decode(output[0], skip_special_tokens=True)\n",
    "\n",
    "print(generated_text)"
   ]
  },
  {
   "cell_type": "code",
   "execution_count": null,
   "id": "65f70d13",
   "metadata": {},
   "outputs": [],
   "source": []
  }
 ],
 "metadata": {
  "kernelspec": {
   "display_name": "Python 3 (ipykernel)",
   "language": "python",
   "name": "python3"
  },
  "language_info": {
   "codemirror_mode": {
    "name": "ipython",
    "version": 3
   },
   "file_extension": ".py",
   "mimetype": "text/x-python",
   "name": "python",
   "nbconvert_exporter": "python",
   "pygments_lexer": "ipython3",
   "version": "3.11.5"
  }
 },
 "nbformat": 4,
 "nbformat_minor": 5
}
